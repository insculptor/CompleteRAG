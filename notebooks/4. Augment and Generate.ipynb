{
 "cells": [
  {
   "cell_type": "markdown",
   "id": "ed573c31",
   "metadata": {},
   "source": [
    "- Augmentation ~= Prompting\n",
    "\n",
    "- Some basics of Prompting to imrove RAG"
   ]
  },
  {
   "cell_type": "code",
   "execution_count": null,
   "id": "4f0b43ff",
   "metadata": {},
   "outputs": [],
   "source": []
  }
 ],
 "metadata": {
  "kernelspec": {
   "display_name": "RAG_py310",
   "language": "python",
   "name": "rag_py310"
  },
  "language_info": {
   "codemirror_mode": {
    "name": "ipython",
    "version": 3
   },
   "file_extension": ".py",
   "mimetype": "text/x-python",
   "name": "python",
   "nbconvert_exporter": "python",
   "pygments_lexer": "ipython3",
   "version": "3.10.14"
  },
  "toc": {
   "base_numbering": 1,
   "nav_menu": {},
   "number_sections": true,
   "sideBar": true,
   "skip_h1_title": false,
   "title_cell": "Table of Contents",
   "title_sidebar": "Contents",
   "toc_cell": false,
   "toc_position": {},
   "toc_section_display": true,
   "toc_window_display": false
  }
 },
 "nbformat": 4,
 "nbformat_minor": 5
}
