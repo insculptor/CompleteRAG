{
 "cells": [
  {
   "cell_type": "markdown",
   "metadata": {},
   "source": [
    "Project Overview"
   ]
  },
  {
   "cell_type": "markdown",
   "metadata": {},
   "source": [
    "What IS RAG and why are we studying it?\n",
    "\n",
    "- Lets go back to 2020 and understand the world of AI back then. (Seems like loong ago!)\n",
    "\n",
    "- We had a Large Language Model which has Billions (even Trillions of Parameters)- Parametric Memory.\n",
    "- This was able to give good results on most of the NLU Tasks!\n",
    "- A Paper came out from Facebook Research - RAG - Retrieval Augmented Generation!\n",
    "- For Language Generation Tasks they found that RAG models generate more specific, diverse and factual language than a state-of-the-art parametric-only seq2seq baseline."
   ]
  },
  {
   "cell_type": "markdown",
   "metadata": {},
   "source": [
    "# Notebook to Scrape Data from Investopedia"
   ]
  },
  {
   "cell_type": "markdown",
   "metadata": {},
   "source": [
    "RAG Paper: https://arxiv.org/pdf/2005.11401.pdf"
   ]
  },
  {
   "cell_type": "code",
   "execution_count": null,
   "metadata": {},
   "outputs": [],
   "source": []
  },
  {
   "cell_type": "code",
   "execution_count": null,
   "metadata": {},
   "outputs": [],
   "source": []
  },
  {
   "cell_type": "code",
   "execution_count": null,
   "metadata": {},
   "outputs": [],
   "source": []
  },
  {
   "cell_type": "code",
   "execution_count": null,
   "metadata": {},
   "outputs": [],
   "source": []
  },
  {
   "cell_type": "code",
   "execution_count": 3,
   "metadata": {},
   "outputs": [
    {
     "data": {
      "text/plain": [
       "True"
      ]
     },
     "execution_count": 3,
     "metadata": {},
     "output_type": "execute_result"
    }
   ],
   "source": [
    "## Load Environment Variables\n",
    "import os\n",
    "from pathlib import Path\n",
    "from dotenv import load_dotenv\n",
    "load_dotenv(Path('C:/Users/erdrr/OneDrive/Desktop/Scholastic/NLP/LLM/RAG/FinsightRAG/.env'))"
   ]
  },
  {
   "cell_type": "code",
   "execution_count": 4,
   "metadata": {},
   "outputs": [],
   "source": [
    "import string\n",
    "import requests\n",
    "import fitz\n",
    "import pandas as pd\n",
    "from time import perf_counter as timer\n",
    "from bs4 import BeautifulSoup\n",
    "from reportlab.lib.pagesizes import letter\n",
    "from reportlab.platypus import SimpleDocTemplate, Paragraph\n",
    "from reportlab.lib.styles import getSampleStyleSheet\n",
    "headers = {\n",
    "        'user-agent': 'Mozilla/5.0 (Macintosh; Intel Mac OS X 10_15_7) AppleWebKit/537.36 (KHTML, like Gecko) Chrome/102.0.0.0 Safari/537.36',\n",
    "        }"
   ]
  },
  {
   "cell_type": "code",
   "execution_count": 8,
   "metadata": {},
   "outputs": [
    {
     "name": "stdout",
     "output_type": "stream",
     "text": [
      "[INFO]:\n",
      "scrape_data_path=WindowsPath('C:/Users/erdrr/OneDrive/Desktop/Scholastic/NLP/LLM/RAG/FinsightRAG/data/raw/scraped/investopedia_data') \n",
      "preprocessed_data_path=WindowsPath('C:/Users/erdrr/OneDrive/Desktop/Scholastic/NLP/LLM/RAG/FinsightRAG/data/preprocessed/investopedia_data')\n"
     ]
    }
   ],
   "source": [
    "scrape_data_path = Path(os.path.join(os.environ[\"BASE_SCRAPE_DATA_DIR\"],\"investopedia_data\"))\n",
    "os.makedirs(scrape_data_path, exist_ok=True)\n",
    "preprocessed_data_path = Path(os.path.join(os.environ[\"PREPROCESSED_DATA_DIR\"],\"investopedia_data\"))\n",
    "print(f\"[INFO]:\\n{scrape_data_path=} \\n{preprocessed_data_path=}\")"
   ]
  },
  {
   "cell_type": "markdown",
   "metadata": {},
   "source": [
    "## Scrape Data"
   ]
  },
  {
   "cell_type": "code",
   "execution_count": 9,
   "metadata": {},
   "outputs": [],
   "source": [
    "class InvestopediaScrape:\n",
    "    \"\"\"\n",
    "    Class to Scrape Investopedia Data and store into pdf.\n",
    "    \"\"\"\n",
    "    def __init__(self, scrape_data_path):\n",
    "        self.scrape_data_path = scrape_data_path\n",
    "        print(\"Starting...\", flush=True)\n",
    "    \n",
    "    def get_all_pagination(self):\n",
    "        url = 'https://www.investopedia.com/'\n",
    "        r = requests.get(url, headers=headers)\n",
    "        soup = BeautifulSoup(r.text,'lxml')\n",
    "        all_lists = soup.find('ul', {'class': 'terms-bar__list'}).find_all('li')\n",
    "        return all_lists\n",
    "        \n",
    "    def scrape(self, url):\n",
    "        headers = {\n",
    "            'user-agent': 'Mozilla/5.0 (Macintosh; Intel Mac OS X 10_15_7) AppleWebKit/537.36 (KHTML, like Gecko) Chrome/102.0.0.0 Safari/537.36',\n",
    "        }\n",
    "        r = requests.get(url, headers=headers)\n",
    "        soup = BeautifulSoup(r.text,'lxml')\n",
    "        try:\n",
    "            term_urls = soup.find('div', {'class': 'dictionary-top300-list__list-content'}).find_all('a')\n",
    "        except Exception as e:\n",
    "            print(f\"Error scraping {url}: {e}\")\n",
    "            return\n",
    "        for term_url in term_urls:\n",
    "            url = term_url['href'].split('=')[0]\n",
    "            file_path = os.path.join(self.scrape_data_path, url.split('/')[-2])\n",
    "            os.makedirs(file_path, exist_ok=True)\n",
    "            file_name = \"Investopedia_\" + url.split('/')[-2] + \"_what_is_\" + url.split('/')[-1].replace(\".asp\", \"\").replace(\"-\",\"_\")\n",
    "            file_name = ''.join(x for x in file_name.title() if not x.isspace())\n",
    "            pdf_path = os.path.join(file_path, f'{file_name}.pdf')\n",
    "\n",
    "            doc = SimpleDocTemplate(pdf_path, pagesize=letter)\n",
    "            styles = getSampleStyleSheet()\n",
    "            Story = []\n",
    "\n",
    "            r = requests.get(url, headers=headers)\n",
    "            soup = BeautifulSoup(r.content,'lxml')\n",
    "\n",
    "            # Collecting text data and removing HTML tags by converting to text\n",
    "            text_elements = soup.findAll('div', {'class': 'article-content'})\n",
    "            cleaned_text = ' '.join(element.get_text(\" \", strip=True) for element in text_elements)\n",
    "            cleaned_text = preprocess_text(cleaned_text)\n",
    "            cleaned_text = preprocess_text_math(cleaned_text)\n",
    "\n",
    "\n",
    "            # Wrap text in a Paragraph\n",
    "            para = Paragraph(cleaned_text, styles[\"Normal\"])\n",
    "            Story.append(para)\n",
    "\n",
    "            # Build the PDF\n",
    "            doc.build(Story)\n",
    "\n",
    "    def close(self):\n",
    "        print(\"[INFO]: Scraping finished.\")"
   ]
  },
  {
   "cell_type": "code",
   "execution_count": 5,
   "metadata": {
    "collapsed": true
   },
   "outputs": [
    {
     "name": "stdout",
     "output_type": "stream",
     "text": [
      "Starting...\n",
      "[INFO]: Fetching terms for the URL: https://www.investopedia.com/terms-beginning-with-num-4769350\n",
      "[INFO]: Fetching terms for the URL: https://www.investopedia.com/terms-beginning-with-a-4769351\n",
      "[INFO]: Fetching terms for the URL: https://www.investopedia.com/terms-beginning-with-b-4769352\n",
      "[INFO]: Fetching terms for the URL: https://www.investopedia.com/terms-beginning-with-c-4769353\n",
      "[INFO]: Fetching terms for the URL: https://www.investopedia.com/terms-beginning-with-d-4769354\n",
      "[INFO]: Fetching terms for the URL: https://www.investopedia.com/terms-beginning-with-e-4769355\n",
      "[INFO]: Fetching terms for the URL: https://www.investopedia.com/terms-beginning-with-f-4769356\n",
      "[INFO]: Fetching terms for the URL: https://www.investopedia.com/terms-beginning-with-g-4769357\n",
      "[INFO]: Fetching terms for the URL: https://www.investopedia.com/terms-beginning-with-h-4769358\n",
      "[INFO]: Fetching terms for the URL: https://www.investopedia.com/terms-beginning-with-i-4769359\n",
      "[INFO]: Fetching terms for the URL: https://www.investopedia.com/terms-beginning-with-j-4769360\n",
      "[INFO]: Fetching terms for the URL: https://www.investopedia.com/terms-beginning-with-k-4769361\n",
      "[INFO]: Fetching terms for the URL: https://www.investopedia.com/terms-beginning-with-l-4769362\n",
      "[INFO]: Fetching terms for the URL: https://www.investopedia.com/terms-beginning-with-m-4769363\n",
      "[INFO]: Fetching terms for the URL: https://www.investopedia.com/terms-beginning-with-n-4769364\n",
      "[INFO]: Fetching terms for the URL: https://www.investopedia.com/terms-beginning-with-o-4769365\n",
      "[INFO]: Fetching terms for the URL: https://www.investopedia.com/terms-beginning-with-p-4769366\n",
      "[INFO]: Fetching terms for the URL: https://www.investopedia.com/terms-beginning-with-q-4769367\n",
      "[INFO]: Fetching terms for the URL: https://www.investopedia.com/terms-beginning-with-r-4769368\n",
      "[INFO]: Fetching terms for the URL: https://www.investopedia.com/terms-beginning-with-s-4769369\n",
      "[INFO]: Fetching terms for the URL: https://www.investopedia.com/terms-beginning-with-t-4769370\n",
      "[INFO]: Fetching terms for the URL: https://www.investopedia.com/terms-beginning-with-u-4769371\n",
      "[INFO]: Fetching terms for the URL: https://www.investopedia.com/terms-beginning-with-v-4769372\n",
      "[INFO]: Fetching terms for the URL: https://www.investopedia.com/terms-beginning-with-w-4769373\n",
      "[INFO]: Fetching terms for the URL: https://www.investopedia.com/terms-beginning-with-x-4769374\n",
      "[INFO]: Fetching terms for the URL: https://www.investopedia.com/terms-beginning-with-y-4769375\n",
      "[INFO]: Fetching terms for the URL: https://www.investopedia.com/terms-beginning-with-z-4769376\n",
      "[INFO]: Total Time: 2070.84838 seconds.\n"
     ]
    }
   ],
   "source": [
    "start_time = timer()\n",
    "crawler = InvestopediaScrape(scrape_data_path)\n",
    "all_pagination_links =crawler.get_all_pagination()\n",
    "for page in all_pagination_links:\n",
    "    page_url = page.find('a')['href'].split('=')[0]\n",
    "    print(f\"[INFO]: Fetching terms for the URL: {page_url}\", flush=True)\n",
    "    crawler.scrape(page_url)\n",
    "end_time = timer()\n",
    "print(f\"[INFO]: Total Time: {end_time-start_time:.5f} seconds.\")"
   ]
  },
  {
   "cell_type": "markdown",
   "metadata": {},
   "source": [
    "Reference: https://github.com/chankeypathak/investopedia-terms"
   ]
  },
  {
   "cell_type": "markdown",
   "metadata": {},
   "source": [
    "## Get Data Stats"
   ]
  },
  {
   "cell_type": "code",
   "execution_count": 18,
   "metadata": {},
   "outputs": [],
   "source": [
    "def get_data_stats(directory):\n",
    "    # List to store metadata of all PDFs\n",
    "    pdf_metadata = []\n",
    "\n",
    "    # Walk through the directory and its subdirectories\n",
    "    for root, dirs, files in os.walk(directory):\n",
    "        for file in files:\n",
    "            if file.lower().endswith('.pdf'):\n",
    "                # Full path of the PDF file\n",
    "                file_path = os.path.join(root, file)\n",
    "                \n",
    "                # Try to open and read the PDF file\n",
    "                try:\n",
    "                    with fitz.open(file_path) as doc:\n",
    "                        total_pages = doc.page_count\n",
    "                        word_count = sum(len(page.get_text(\"text\").split()) for page in doc)\n",
    "                        \n",
    "                        # Append metadata to the list\n",
    "                        pdf_metadata.append({\n",
    "                            'file_name': file,\n",
    "                            'total_pages': total_pages,\n",
    "                            'word_count': word_count\n",
    "                        })\n",
    "                except Exception as e:\n",
    "                    print(f\"Error processing {file_path}: {e}\")\n",
    "\n",
    "    # Convert the list of metadata into a DataFrame\n",
    "    df = pd.DataFrame(pdf_metadata)\n",
    "    \n",
    "    # Return the DataFrame\n",
    "    return df"
   ]
  },
  {
   "cell_type": "code",
   "execution_count": 19,
   "metadata": {},
   "outputs": [],
   "source": [
    "df = get_data_stats(scrape_data_path)"
   ]
  },
  {
   "cell_type": "code",
   "execution_count": 20,
   "metadata": {},
   "outputs": [
    {
     "data": {
      "text/html": [
       "<div>\n",
       "<style scoped>\n",
       "    .dataframe tbody tr th:only-of-type {\n",
       "        vertical-align: middle;\n",
       "    }\n",
       "\n",
       "    .dataframe tbody tr th {\n",
       "        vertical-align: top;\n",
       "    }\n",
       "\n",
       "    .dataframe thead th {\n",
       "        text-align: right;\n",
       "    }\n",
       "</style>\n",
       "<table border=\"1\" class=\"dataframe\">\n",
       "  <thead>\n",
       "    <tr style=\"text-align: right;\">\n",
       "      <th></th>\n",
       "      <th>file_name</th>\n",
       "      <th>total_pages</th>\n",
       "      <th>word_count</th>\n",
       "    </tr>\n",
       "  </thead>\n",
       "  <tbody>\n",
       "    <tr>\n",
       "      <th>0</th>\n",
       "      <td>Investopedia_03_What_Is_071603.pdf</td>\n",
       "      <td>2</td>\n",
       "      <td>896</td>\n",
       "    </tr>\n",
       "    <tr>\n",
       "      <th>1</th>\n",
       "      <td>Investopedia_042315_What_Is_How_Do_Prepaid_Deb...</td>\n",
       "      <td>2</td>\n",
       "      <td>1062</td>\n",
       "    </tr>\n",
       "    <tr>\n",
       "      <th>2</th>\n",
       "      <td>Investopedia_05_What_Is_Economicmoat.pdf</td>\n",
       "      <td>2</td>\n",
       "      <td>1295</td>\n",
       "    </tr>\n",
       "    <tr>\n",
       "      <th>3</th>\n",
       "      <td>Investopedia_063015_What_Is_What_Effective_Int...</td>\n",
       "      <td>2</td>\n",
       "      <td>1514</td>\n",
       "    </tr>\n",
       "    <tr>\n",
       "      <th>4</th>\n",
       "      <td>Investopedia_06_What_Is_Putcallratio.pdf</td>\n",
       "      <td>2</td>\n",
       "      <td>1120</td>\n",
       "    </tr>\n",
       "    <tr>\n",
       "      <th>...</th>\n",
       "      <td>...</td>\n",
       "      <td>...</td>\n",
       "      <td>...</td>\n",
       "    </tr>\n",
       "    <tr>\n",
       "      <th>6248</th>\n",
       "      <td>Investopedia_Z_What_Is_Ztranche.pdf</td>\n",
       "      <td>2</td>\n",
       "      <td>1242</td>\n",
       "    </tr>\n",
       "    <tr>\n",
       "      <th>6249</th>\n",
       "      <td>Investopedia_Z_What_Is_Zzzzbest.pdf</td>\n",
       "      <td>2</td>\n",
       "      <td>1119</td>\n",
       "    </tr>\n",
       "    <tr>\n",
       "      <th>6250</th>\n",
       "      <td>Investopedia_Z_What_Is_Z_Bond.pdf</td>\n",
       "      <td>1</td>\n",
       "      <td>558</td>\n",
       "    </tr>\n",
       "    <tr>\n",
       "      <th>6251</th>\n",
       "      <td>Investopedia_Z_What_Is_Z_Share.pdf</td>\n",
       "      <td>1</td>\n",
       "      <td>500</td>\n",
       "    </tr>\n",
       "    <tr>\n",
       "      <th>6252</th>\n",
       "      <td>Investopedia_Z_What_Is_Z_Test.pdf</td>\n",
       "      <td>2</td>\n",
       "      <td>919</td>\n",
       "    </tr>\n",
       "  </tbody>\n",
       "</table>\n",
       "<p>6253 rows × 3 columns</p>\n",
       "</div>"
      ],
      "text/plain": [
       "                                              file_name  total_pages  \\\n",
       "0                    Investopedia_03_What_Is_071603.pdf            2   \n",
       "1     Investopedia_042315_What_Is_How_Do_Prepaid_Deb...            2   \n",
       "2              Investopedia_05_What_Is_Economicmoat.pdf            2   \n",
       "3     Investopedia_063015_What_Is_What_Effective_Int...            2   \n",
       "4              Investopedia_06_What_Is_Putcallratio.pdf            2   \n",
       "...                                                 ...          ...   \n",
       "6248                Investopedia_Z_What_Is_Ztranche.pdf            2   \n",
       "6249                Investopedia_Z_What_Is_Zzzzbest.pdf            2   \n",
       "6250                  Investopedia_Z_What_Is_Z_Bond.pdf            1   \n",
       "6251                 Investopedia_Z_What_Is_Z_Share.pdf            1   \n",
       "6252                  Investopedia_Z_What_Is_Z_Test.pdf            2   \n",
       "\n",
       "      word_count  \n",
       "0            896  \n",
       "1           1062  \n",
       "2           1295  \n",
       "3           1514  \n",
       "4           1120  \n",
       "...          ...  \n",
       "6248        1242  \n",
       "6249        1119  \n",
       "6250         558  \n",
       "6251         500  \n",
       "6252         919  \n",
       "\n",
       "[6253 rows x 3 columns]"
      ]
     },
     "execution_count": 20,
     "metadata": {},
     "output_type": "execute_result"
    }
   ],
   "source": [
    "df"
   ]
  },
  {
   "cell_type": "code",
   "execution_count": 23,
   "metadata": {},
   "outputs": [
    {
     "data": {
      "text/html": [
       "<div>\n",
       "<style scoped>\n",
       "    .dataframe tbody tr th:only-of-type {\n",
       "        vertical-align: middle;\n",
       "    }\n",
       "\n",
       "    .dataframe tbody tr th {\n",
       "        vertical-align: top;\n",
       "    }\n",
       "\n",
       "    .dataframe thead th {\n",
       "        text-align: right;\n",
       "    }\n",
       "</style>\n",
       "<table border=\"1\" class=\"dataframe\">\n",
       "  <thead>\n",
       "    <tr style=\"text-align: right;\">\n",
       "      <th></th>\n",
       "      <th>total_pages</th>\n",
       "      <th>word_count</th>\n",
       "    </tr>\n",
       "  </thead>\n",
       "  <tbody>\n",
       "    <tr>\n",
       "      <th>count</th>\n",
       "      <td>6253.000000</td>\n",
       "      <td>6253.000000</td>\n",
       "    </tr>\n",
       "    <tr>\n",
       "      <th>mean</th>\n",
       "      <td>1.636654</td>\n",
       "      <td>1020.837998</td>\n",
       "    </tr>\n",
       "    <tr>\n",
       "      <th>std</th>\n",
       "      <td>0.746337</td>\n",
       "      <td>541.591345</td>\n",
       "    </tr>\n",
       "    <tr>\n",
       "      <th>min</th>\n",
       "      <td>1.000000</td>\n",
       "      <td>92.000000</td>\n",
       "    </tr>\n",
       "    <tr>\n",
       "      <th>25%</th>\n",
       "      <td>1.000000</td>\n",
       "      <td>644.000000</td>\n",
       "    </tr>\n",
       "    <tr>\n",
       "      <th>50%</th>\n",
       "      <td>2.000000</td>\n",
       "      <td>873.000000</td>\n",
       "    </tr>\n",
       "    <tr>\n",
       "      <th>75%</th>\n",
       "      <td>2.000000</td>\n",
       "      <td>1237.000000</td>\n",
       "    </tr>\n",
       "    <tr>\n",
       "      <th>max</th>\n",
       "      <td>11.000000</td>\n",
       "      <td>8421.000000</td>\n",
       "    </tr>\n",
       "  </tbody>\n",
       "</table>\n",
       "</div>"
      ],
      "text/plain": [
       "       total_pages   word_count\n",
       "count  6253.000000  6253.000000\n",
       "mean      1.636654  1020.837998\n",
       "std       0.746337   541.591345\n",
       "min       1.000000    92.000000\n",
       "25%       1.000000   644.000000\n",
       "50%       2.000000   873.000000\n",
       "75%       2.000000  1237.000000\n",
       "max      11.000000  8421.000000"
      ]
     },
     "execution_count": 23,
     "metadata": {},
     "output_type": "execute_result"
    }
   ],
   "source": [
    "df.describe()"
   ]
  },
  {
   "cell_type": "code",
   "execution_count": 22,
   "metadata": {},
   "outputs": [
    {
     "data": {
      "text/plain": [
       "4134    8421\n",
       "590     6860\n",
       "1444    6855\n",
       "4184    5167\n",
       "1453    5020\n",
       "        ... \n",
       "6036     242\n",
       "2097     225\n",
       "5915     179\n",
       "5646     178\n",
       "3887      92\n",
       "Name: word_count, Length: 6253, dtype: int64"
      ]
     },
     "execution_count": 22,
     "metadata": {},
     "output_type": "execute_result"
    }
   ],
   "source": [
    "df['word_count'].sort_values(ascending=False)"
   ]
  },
  {
   "cell_type": "code",
   "execution_count": null,
   "metadata": {},
   "outputs": [],
   "source": []
  }
 ],
 "metadata": {
  "kernelspec": {
   "display_name": "rag",
   "language": "python",
   "name": "rag"
  },
  "language_info": {
   "codemirror_mode": {
    "name": "ipython",
    "version": 3
   },
   "file_extension": ".py",
   "mimetype": "text/x-python",
   "name": "python",
   "nbconvert_exporter": "python",
   "pygments_lexer": "ipython3",
   "version": "3.11.7"
  },
  "toc": {
   "base_numbering": 1,
   "nav_menu": {},
   "number_sections": true,
   "sideBar": true,
   "skip_h1_title": false,
   "title_cell": "Table of Contents",
   "title_sidebar": "Contents",
   "toc_cell": false,
   "toc_position": {},
   "toc_section_display": true,
   "toc_window_display": false
  }
 },
 "nbformat": 4,
 "nbformat_minor": 2
}
